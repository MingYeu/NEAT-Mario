{
 "cells": [
  {
   "cell_type": "markdown",
   "id": "b02b2b41",
   "metadata": {},
   "source": [
    "1. Setup Mario"
   ]
  },
  {
   "cell_type": "code",
   "execution_count": 4,
   "id": "c15a0091",
   "metadata": {},
   "outputs": [
    {
     "name": "stdout",
     "output_type": "stream",
     "text": [
      "Requirement already satisfied: gym-super-mario-bros==7.3.0 in c:\\users\\yeu\\.conda\\envs\\tensor\\lib\\site-packages (7.3.0)\n",
      "Requirement already satisfied: nes_py in c:\\users\\yeu\\.conda\\envs\\tensor\\lib\\site-packages (8.2.1)\n",
      "Requirement already satisfied: pyglet<=1.5.21,>=1.4.0 in c:\\users\\yeu\\.conda\\envs\\tensor\\lib\\site-packages (from nes_py) (1.5.21)\n",
      "Requirement already satisfied: numpy>=1.18.5 in c:\\users\\yeu\\.conda\\envs\\tensor\\lib\\site-packages (from nes_py) (1.19.5)\n",
      "Requirement already satisfied: tqdm>=4.48.2 in c:\\users\\yeu\\.conda\\envs\\tensor\\lib\\site-packages (from nes_py) (4.59.0)\n",
      "Requirement already satisfied: gym>=0.17.2 in c:\\users\\yeu\\.conda\\envs\\tensor\\lib\\site-packages (from nes_py) (0.25.1)\n",
      "Requirement already satisfied: gym-notices>=0.0.4 in c:\\users\\yeu\\.conda\\envs\\tensor\\lib\\site-packages (from gym>=0.17.2->nes_py) (0.0.7)\n",
      "Requirement already satisfied: importlib-metadata>=4.8.0 in c:\\users\\yeu\\.conda\\envs\\tensor\\lib\\site-packages (from gym>=0.17.2->nes_py) (4.12.0)\n",
      "Requirement already satisfied: cloudpickle>=1.2.0 in c:\\users\\yeu\\.conda\\envs\\tensor\\lib\\site-packages (from gym>=0.17.2->nes_py) (1.6.0)\n",
      "Requirement already satisfied: zipp>=0.5 in c:\\users\\yeu\\.conda\\envs\\tensor\\lib\\site-packages (from importlib-metadata>=4.8.0->gym>=0.17.2->nes_py) (3.4.1)\n"
     ]
    }
   ],
   "source": [
    "!pip install gym-super-mario-bros==7.3.0 nes_py"
   ]
  },
  {
   "cell_type": "code",
   "execution_count": 1,
   "id": "79ba0b8b",
   "metadata": {},
   "outputs": [],
   "source": [
    "# Import the game\n",
    "import gym_super_mario_bros\n",
    "# Import the Joypad wrapper\n",
    "from nes_py.wrappers import JoypadSpace\n",
    "# Import the SIMPLIFIED controls\n",
    "from gym_super_mario_bros.actions import SIMPLE_MOVEMENT"
   ]
  },
  {
   "cell_type": "code",
   "execution_count": 3,
   "id": "b9183f9e",
   "metadata": {},
   "outputs": [
    {
     "data": {
      "text/plain": [
       "[['NOOP'],\n",
       " ['right'],\n",
       " ['right', 'A'],\n",
       " ['right', 'B'],\n",
       " ['right', 'A', 'B'],\n",
       " ['A'],\n",
       " ['left']]"
      ]
     },
     "execution_count": 3,
     "metadata": {},
     "output_type": "execute_result"
    }
   ],
   "source": [
    "SIMPLE_MOVEMENT"
   ]
  },
  {
   "cell_type": "code",
   "execution_count": 5,
   "id": "a41c7ee3",
   "metadata": {},
   "outputs": [],
   "source": [
    "# Setup game\n",
    "# env = gym_super_mario_bros.make('SuperMarioBros-v3')\n",
    "env = gym_super_mario_bros.make('SuperMarioBros2-v1')\n",
    "env = JoypadSpace(env, SIMPLE_MOVEMENT)"
   ]
  },
  {
   "cell_type": "code",
   "execution_count": 6,
   "id": "41f1023b",
   "metadata": {},
   "outputs": [
    {
     "data": {
      "text/plain": [
       "(240, 256, 3)"
      ]
     },
     "execution_count": 6,
     "metadata": {},
     "output_type": "execute_result"
    }
   ],
   "source": [
    "env.observation_space.shape"
   ]
  },
  {
   "cell_type": "code",
   "execution_count": 7,
   "id": "eceabd8b",
   "metadata": {},
   "outputs": [
    {
     "data": {
      "text/plain": [
       "Discrete(7)"
      ]
     },
     "execution_count": 7,
     "metadata": {},
     "output_type": "execute_result"
    }
   ],
   "source": [
    "env.action_space"
   ]
  },
  {
   "cell_type": "code",
   "execution_count": 8,
   "id": "2b3bbc20",
   "metadata": {},
   "outputs": [
    {
     "data": {
      "text/plain": [
       "['left']"
      ]
     },
     "execution_count": 8,
     "metadata": {},
     "output_type": "execute_result"
    }
   ],
   "source": [
    "SIMPLE_MOVEMENT[env.action_space.sample()]"
   ]
  },
  {
   "cell_type": "code",
   "execution_count": null,
   "id": "fba90a05",
   "metadata": {},
   "outputs": [],
   "source": [
    "# Create a flag - restart or not\n",
    "done = True\n",
    "# Loop through each frame in the game\n",
    "for step in range(100000): \n",
    "    # Start the game to begin with \n",
    "    if done: \n",
    "        # Start the gamee\n",
    "        env.reset()\n",
    "    # Do random actions\n",
    "    state, reward, done, info = env.step(env.action_space.sample())\n",
    "    # Show the game on the screen\n",
    "    env.render()\n",
    "# Close the game\n",
    "env.close()"
   ]
  },
  {
   "cell_type": "code",
   "execution_count": 10,
   "id": "8bc07e02",
   "metadata": {},
   "outputs": [],
   "source": [
    "env.close()"
   ]
  },
  {
   "cell_type": "code",
   "execution_count": 9,
   "id": "e301d251",
   "metadata": {},
   "outputs": [],
   "source": [
    "state = env.reset()"
   ]
  },
  {
   "cell_type": "code",
   "execution_count": 10,
   "id": "c99b7ba9",
   "metadata": {},
   "outputs": [
    {
     "data": {
      "text/plain": [
       "(240, 256, 3)"
      ]
     },
     "execution_count": 10,
     "metadata": {},
     "output_type": "execute_result"
    }
   ],
   "source": [
    "state.shape"
   ]
  },
  {
   "cell_type": "code",
   "execution_count": 13,
   "id": "069c23f5",
   "metadata": {},
   "outputs": [
    {
     "data": {
      "text/plain": [
       "{'coins': 0,\n",
       " 'flag_get': False,\n",
       " 'life': 2,\n",
       " 'score': 0,\n",
       " 'stage': 1,\n",
       " 'status': 'small',\n",
       " 'time': 400,\n",
       " 'world': 1,\n",
       " 'x_pos': 40,\n",
       " 'x_pos_screen': 40,\n",
       " 'y_pos': 79}"
      ]
     },
     "execution_count": 13,
     "metadata": {},
     "output_type": "execute_result"
    }
   ],
   "source": [
    "# env.step(1)\n",
    "# env.step(1)[0]\n",
    "# env.step(1)[1]\n",
    "# env.step(1)[2]\n",
    "env.step(1)[3]"
   ]
  },
  {
   "cell_type": "markdown",
   "id": "cdcf09df",
   "metadata": {},
   "source": [
    "2. Preprocess Environment"
   ]
  },
  {
   "cell_type": "code",
   "execution_count": 14,
   "id": "af0ef51e",
   "metadata": {
    "scrolled": true
   },
   "outputs": [
    {
     "name": "stdout",
     "output_type": "stream",
     "text": [
      "Looking in indexes: https://pypi.org/simple, https://download.pytorch.org/whl/cu116\n",
      "Requirement already satisfied: torch in c:\\users\\yeu\\.conda\\envs\\tensor\\lib\\site-packages (1.12.1)\n",
      "Collecting torchvision\n",
      "  Downloading https://download.pytorch.org/whl/cu116/torchvision-0.13.1%2Bcu116-cp38-cp38-win_amd64.whl (2.6 MB)\n",
      "Collecting torchaudio\n",
      "  Downloading https://download.pytorch.org/whl/cu116/torchaudio-0.12.1%2Bcu116-cp38-cp38-win_amd64.whl (1.2 MB)\n",
      "Requirement already satisfied: typing-extensions in c:\\users\\yeu\\.conda\\envs\\tensor\\lib\\site-packages (from torch) (3.7.4.3)\n",
      "Collecting pillow!=8.3.*,>=5.3.0\n",
      "  Downloading Pillow-9.2.0-cp38-cp38-win_amd64.whl (3.3 MB)\n",
      "Requirement already satisfied: requests in c:\\users\\yeu\\.conda\\envs\\tensor\\lib\\site-packages (from torchvision) (2.25.1)\n",
      "Requirement already satisfied: numpy in c:\\users\\yeu\\.conda\\envs\\tensor\\lib\\site-packages (from torchvision) (1.19.5)\n",
      "Requirement already satisfied: idna<3,>=2.5 in c:\\users\\yeu\\.conda\\envs\\tensor\\lib\\site-packages (from requests->torchvision) (2.10)\n",
      "Requirement already satisfied: urllib3<1.27,>=1.21.1 in c:\\users\\yeu\\.conda\\envs\\tensor\\lib\\site-packages (from requests->torchvision) (1.26.9)\n",
      "Requirement already satisfied: certifi>=2017.4.17 in c:\\users\\yeu\\.conda\\envs\\tensor\\lib\\site-packages (from requests->torchvision) (2021.5.30)\n",
      "Requirement already satisfied: chardet<5,>=3.0.2 in c:\\users\\yeu\\.conda\\envs\\tensor\\lib\\site-packages (from requests->torchvision) (3.0.4)\n",
      "Installing collected packages: pillow, torchvision, torchaudio\n",
      "  Attempting uninstall: pillow\n",
      "    Found existing installation: Pillow 8.3.1\n",
      "    Uninstalling Pillow-8.3.1:\n",
      "      Successfully uninstalled Pillow-8.3.1\n",
      "Successfully installed pillow-9.2.0 torchaudio-0.12.1+cu116 torchvision-0.13.1+cu116\n"
     ]
    }
   ],
   "source": [
    "# Install pytorch = https://pytorch.org/get-started/locally/\n",
    "!pip3 install torch torchvision torchaudio --extra-index-url https://download.pytorch.org/whl/cu116"
   ]
  },
  {
   "cell_type": "code",
   "execution_count": 15,
   "id": "6dba13af",
   "metadata": {},
   "outputs": [
    {
     "name": "stdout",
     "output_type": "stream",
     "text": [
      "Collecting stable-baselines3[extra]\n",
      "  Downloading stable_baselines3-1.6.0-py3-none-any.whl (177 kB)\n",
      "Requirement already satisfied: numpy in c:\\users\\yeu\\.conda\\envs\\tensor\\lib\\site-packages (from stable-baselines3[extra]) (1.19.5)\n",
      "Requirement already satisfied: pandas in c:\\users\\yeu\\.conda\\envs\\tensor\\lib\\site-packages (from stable-baselines3[extra]) (1.2.4)\n",
      "Requirement already satisfied: torch>=1.11 in c:\\users\\yeu\\.conda\\envs\\tensor\\lib\\site-packages (from stable-baselines3[extra]) (1.12.1)\n",
      "Requirement already satisfied: cloudpickle in c:\\users\\yeu\\.conda\\envs\\tensor\\lib\\site-packages (from stable-baselines3[extra]) (1.6.0)\n",
      "Requirement already satisfied: matplotlib in c:\\users\\yeu\\.conda\\envs\\tensor\\lib\\site-packages (from stable-baselines3[extra]) (3.3.4)\n",
      "Collecting gym==0.21\n",
      "  Downloading gym-0.21.0.tar.gz (1.5 MB)\n",
      "Collecting ale-py==0.7.4\n",
      "  Downloading ale_py-0.7.4-cp38-cp38-win_amd64.whl (904 kB)\n",
      "Requirement already satisfied: opencv-python in c:\\users\\yeu\\.conda\\envs\\tensor\\lib\\site-packages (from stable-baselines3[extra]) (4.5.1.48)\n",
      "Collecting psutil\n",
      "  Downloading psutil-5.9.1-cp38-cp38-win_amd64.whl (246 kB)\n",
      "Requirement already satisfied: tensorboard>=2.2.0 in c:\\users\\yeu\\.conda\\envs\\tensor\\lib\\site-packages (from stable-baselines3[extra]) (2.8.0)\n",
      "Collecting autorom[accept-rom-license]~=0.4.2\n",
      "  Downloading AutoROM-0.4.2-py3-none-any.whl (16 kB)\n",
      "Requirement already satisfied: pillow in c:\\users\\yeu\\.conda\\envs\\tensor\\lib\\site-packages (from stable-baselines3[extra]) (9.2.0)\n",
      "Collecting protobuf~=3.19.0\n",
      "  Downloading protobuf-3.19.4-cp38-cp38-win_amd64.whl (895 kB)\n",
      "Requirement already satisfied: importlib-metadata>=4.10.0 in c:\\users\\yeu\\.conda\\envs\\tensor\\lib\\site-packages (from ale-py==0.7.4->stable-baselines3[extra]) (4.12.0)\n",
      "Collecting importlib-resources\n",
      "  Downloading importlib_resources-5.9.0-py3-none-any.whl (33 kB)\n",
      "Requirement already satisfied: click in c:\\users\\yeu\\.conda\\envs\\tensor\\lib\\site-packages (from autorom[accept-rom-license]~=0.4.2->stable-baselines3[extra]) (7.1.2)\n",
      "Requirement already satisfied: tqdm in c:\\users\\yeu\\.conda\\envs\\tensor\\lib\\site-packages (from autorom[accept-rom-license]~=0.4.2->stable-baselines3[extra]) (4.59.0)\n",
      "Requirement already satisfied: requests in c:\\users\\yeu\\.conda\\envs\\tensor\\lib\\site-packages (from autorom[accept-rom-license]~=0.4.2->stable-baselines3[extra]) (2.25.1)\n",
      "Collecting AutoROM.accept-rom-license\n",
      "  Downloading AutoROM.accept-rom-license-0.4.2.tar.gz (9.8 kB)\n",
      "  Installing build dependencies: started\n",
      "  Installing build dependencies: finished with status 'done'\n",
      "  Getting requirements to build wheel: started\n",
      "  Getting requirements to build wheel: finished with status 'done'\n",
      "    Preparing wheel metadata: started\n",
      "    Preparing wheel metadata: finished with status 'done'\n",
      "Requirement already satisfied: zipp>=0.5 in c:\\users\\yeu\\.conda\\envs\\tensor\\lib\\site-packages (from importlib-metadata>=4.10.0->ale-py==0.7.4->stable-baselines3[extra]) (3.4.1)\n",
      "Requirement already satisfied: absl-py>=0.4 in c:\\users\\yeu\\.conda\\envs\\tensor\\lib\\site-packages (from tensorboard>=2.2.0->stable-baselines3[extra]) (0.12.0)\n",
      "Requirement already satisfied: google-auth-oauthlib<0.5,>=0.4.1 in c:\\users\\yeu\\.conda\\envs\\tensor\\lib\\site-packages (from tensorboard>=2.2.0->stable-baselines3[extra]) (0.4.4)\n",
      "Requirement already satisfied: tensorboard-plugin-wit>=1.6.0 in c:\\users\\yeu\\.conda\\envs\\tensor\\lib\\site-packages (from tensorboard>=2.2.0->stable-baselines3[extra]) (1.8.0)\n",
      "Requirement already satisfied: wheel>=0.26 in c:\\users\\yeu\\.conda\\envs\\tensor\\lib\\site-packages (from tensorboard>=2.2.0->stable-baselines3[extra]) (0.36.2)\n",
      "Requirement already satisfied: werkzeug>=0.11.15 in c:\\users\\yeu\\.conda\\envs\\tensor\\lib\\site-packages (from tensorboard>=2.2.0->stable-baselines3[extra]) (1.0.1)\n",
      "Requirement already satisfied: markdown>=2.6.8 in c:\\users\\yeu\\.conda\\envs\\tensor\\lib\\site-packages (from tensorboard>=2.2.0->stable-baselines3[extra]) (3.3.4)\n",
      "Requirement already satisfied: google-auth<3,>=1.6.3 in c:\\users\\yeu\\.conda\\envs\\tensor\\lib\\site-packages (from tensorboard>=2.2.0->stable-baselines3[extra]) (2.6.2)\n",
      "Requirement already satisfied: tensorboard-data-server<0.7.0,>=0.6.0 in c:\\users\\yeu\\.conda\\envs\\tensor\\lib\\site-packages (from tensorboard>=2.2.0->stable-baselines3[extra]) (0.6.1)\n",
      "Requirement already satisfied: grpcio>=1.24.3 in c:\\users\\yeu\\.conda\\envs\\tensor\\lib\\site-packages (from tensorboard>=2.2.0->stable-baselines3[extra]) (1.44.0)\n",
      "Requirement already satisfied: setuptools>=41.0.0 in c:\\users\\yeu\\.conda\\envs\\tensor\\lib\\site-packages (from tensorboard>=2.2.0->stable-baselines3[extra]) (52.0.0.post20210125)\n",
      "Requirement already satisfied: six in c:\\users\\yeu\\.conda\\envs\\tensor\\lib\\site-packages (from absl-py>=0.4->tensorboard>=2.2.0->stable-baselines3[extra]) (1.15.0)\n",
      "Requirement already satisfied: pyasn1-modules>=0.2.1 in c:\\users\\yeu\\.conda\\envs\\tensor\\lib\\site-packages (from google-auth<3,>=1.6.3->tensorboard>=2.2.0->stable-baselines3[extra]) (0.2.8)\n",
      "Requirement already satisfied: cachetools<6.0,>=2.0.0 in c:\\users\\yeu\\.conda\\envs\\tensor\\lib\\site-packages (from google-auth<3,>=1.6.3->tensorboard>=2.2.0->stable-baselines3[extra]) (4.2.1)\n",
      "Requirement already satisfied: rsa<5,>=3.1.4 in c:\\users\\yeu\\.conda\\envs\\tensor\\lib\\site-packages (from google-auth<3,>=1.6.3->tensorboard>=2.2.0->stable-baselines3[extra]) (4.7.2)\n",
      "Requirement already satisfied: requests-oauthlib>=0.7.0 in c:\\users\\yeu\\.conda\\envs\\tensor\\lib\\site-packages (from google-auth-oauthlib<0.5,>=0.4.1->tensorboard>=2.2.0->stable-baselines3[extra]) (1.3.0)\n",
      "Requirement already satisfied: pyasn1<0.5.0,>=0.4.6 in c:\\users\\yeu\\.conda\\envs\\tensor\\lib\\site-packages (from pyasn1-modules>=0.2.1->google-auth<3,>=1.6.3->tensorboard>=2.2.0->stable-baselines3[extra]) (0.4.8)\n",
      "Requirement already satisfied: urllib3<1.27,>=1.21.1 in c:\\users\\yeu\\.conda\\envs\\tensor\\lib\\site-packages (from requests->autorom[accept-rom-license]~=0.4.2->stable-baselines3[extra]) (1.26.9)\n",
      "Requirement already satisfied: chardet<5,>=3.0.2 in c:\\users\\yeu\\.conda\\envs\\tensor\\lib\\site-packages (from requests->autorom[accept-rom-license]~=0.4.2->stable-baselines3[extra]) (3.0.4)\n",
      "Requirement already satisfied: idna<3,>=2.5 in c:\\users\\yeu\\.conda\\envs\\tensor\\lib\\site-packages (from requests->autorom[accept-rom-license]~=0.4.2->stable-baselines3[extra]) (2.10)\n",
      "Requirement already satisfied: certifi>=2017.4.17 in c:\\users\\yeu\\.conda\\envs\\tensor\\lib\\site-packages (from requests->autorom[accept-rom-license]~=0.4.2->stable-baselines3[extra]) (2021.5.30)\n",
      "Requirement already satisfied: oauthlib>=3.0.0 in c:\\users\\yeu\\.conda\\envs\\tensor\\lib\\site-packages (from requests-oauthlib>=0.7.0->google-auth-oauthlib<0.5,>=0.4.1->tensorboard>=2.2.0->stable-baselines3[extra]) (3.1.0)\n",
      "Requirement already satisfied: typing-extensions in c:\\users\\yeu\\.conda\\envs\\tensor\\lib\\site-packages (from torch>=1.11->stable-baselines3[extra]) (3.7.4.3)\n",
      "Requirement already satisfied: pyparsing!=2.0.4,!=2.1.2,!=2.1.6,>=2.0.3 in c:\\users\\yeu\\.conda\\envs\\tensor\\lib\\site-packages (from matplotlib->stable-baselines3[extra]) (2.4.7)\n",
      "Requirement already satisfied: kiwisolver>=1.0.1 in c:\\users\\yeu\\.conda\\envs\\tensor\\lib\\site-packages (from matplotlib->stable-baselines3[extra]) (1.3.1)\n",
      "Requirement already satisfied: cycler>=0.10 in c:\\users\\yeu\\.conda\\envs\\tensor\\lib\\site-packages (from matplotlib->stable-baselines3[extra]) (0.10.0)\n",
      "Requirement already satisfied: python-dateutil>=2.1 in c:\\users\\yeu\\.conda\\envs\\tensor\\lib\\site-packages (from matplotlib->stable-baselines3[extra]) (2.8.1)\n",
      "Requirement already satisfied: pytz>=2017.3 in c:\\users\\yeu\\.conda\\envs\\tensor\\lib\\site-packages (from pandas->stable-baselines3[extra]) (2021.1)\n",
      "Building wheels for collected packages: gym, AutoROM.accept-rom-license\n",
      "  Building wheel for gym (setup.py): started\n",
      "  Building wheel for gym (setup.py): finished with status 'done'\n",
      "  Created wheel for gym: filename=gym-0.21.0-py3-none-any.whl size=1616825 sha256=e056cfe778b67f11600aa1fe626ef64d17c9280117f28e0065c97e4b7618d94d\n",
      "  Stored in directory: c:\\users\\yeu\\appdata\\local\\pip\\cache\\wheels\\27\\6d\\b3\\a3a6e10704795c9b9000f1ab2dc480dfe7bed42f5972806e73\n",
      "  Building wheel for AutoROM.accept-rom-license (PEP 517): started\n",
      "  Building wheel for AutoROM.accept-rom-license (PEP 517): finished with status 'done'\n",
      "  Created wheel for AutoROM.accept-rom-license: filename=AutoROM.accept_rom_license-0.4.2-py3-none-any.whl size=446447 sha256=3b42de20e0b22efcf1b4188e2e52a2e741aad397ae396b0c24f2d5a9cb01d7a4\n",
      "  Stored in directory: c:\\users\\yeu\\appdata\\local\\pip\\cache\\wheels\\51\\08\\c5\\28b973078691a3f8baf99fcaec1ed8f0e05ef6e54d2390212c\n",
      "Successfully built gym AutoROM.accept-rom-license\n",
      "Installing collected packages: importlib-resources, protobuf, gym, AutoROM.accept-rom-license, autorom, stable-baselines3, psutil, ale-py\n",
      "  Attempting uninstall: protobuf\n",
      "    Found existing installation: protobuf 3.15.7\n",
      "    Uninstalling protobuf-3.15.7:\n",
      "      Successfully uninstalled protobuf-3.15.7\n",
      "  Attempting uninstall: gym\n",
      "    Found existing installation: gym 0.25.1\n",
      "    Uninstalling gym-0.25.1:\n",
      "      Successfully uninstalled gym-0.25.1\n",
      "Successfully installed AutoROM.accept-rom-license-0.4.2 ale-py-0.7.4 autorom-0.4.2 gym-0.21.0 importlib-resources-5.9.0 protobuf-3.19.4 psutil-5.9.1 stable-baselines3-1.6.0\n"
     ]
    }
   ],
   "source": [
    "# Install stable baselines for RL stuff\n",
    "!pip install stable-baselines3[extra]"
   ]
  },
  {
   "cell_type": "code",
   "execution_count": 26,
   "id": "1ada9067",
   "metadata": {},
   "outputs": [],
   "source": [
    "# Import Frame Stacker Wrapper and GrayScaling Wrapper\n",
    "from gym.wrappers import GrayScaleObservation\n",
    "# Import Vectorization Wrappers\n",
    "from stable_baselines3.common.vec_env import VecFrameStack, DummyVecEnv\n",
    "# Import Matplotlib to show the impact of frame stacking\n",
    "from matplotlib import pyplot as plt"
   ]
  },
  {
   "cell_type": "code",
   "execution_count": 27,
   "id": "1abb8edc",
   "metadata": {},
   "outputs": [],
   "source": [
    "# 1. Create the base environment\n",
    "env = gym_super_mario_bros.make('SuperMarioBros2-v1')\n",
    "# 2. Simplify the controls \n",
    "env = JoypadSpace(env, SIMPLE_MOVEMENT)\n",
    "# 3. Grayscale\n",
    "env = GrayScaleObservation(env, keep_dim=True)\n",
    "# 4. Wrap inside the Dummy Environment\n",
    "env = DummyVecEnv([lambda: env])\n",
    "# 5. Stack the frames\n",
    "env = VecFrameStack(env, 4, channels_order='last')"
   ]
  },
  {
   "cell_type": "code",
   "execution_count": null,
   "id": "54eeec90",
   "metadata": {},
   "outputs": [],
   "source": [
    "state = env.reset()"
   ]
  },
  {
   "cell_type": "code",
   "execution_count": 29,
   "id": "e9046297",
   "metadata": {},
   "outputs": [
    {
     "data": {
      "text/plain": [
       "(240, 256, 3)"
      ]
     },
     "execution_count": 29,
     "metadata": {},
     "output_type": "execute_result"
    }
   ],
   "source": [
    "state.shape"
   ]
  },
  {
   "cell_type": "code",
   "execution_count": 25,
   "id": "84f05b6a",
   "metadata": {},
   "outputs": [
    {
     "data": {
      "text/plain": [
       "184320"
      ]
     },
     "execution_count": 25,
     "metadata": {},
     "output_type": "execute_result"
    }
   ],
   "source": [
    "240*256*3"
   ]
  },
  {
   "cell_type": "code",
   "execution_count": 24,
   "id": "dd15c3ba",
   "metadata": {},
   "outputs": [
    {
     "data": {
      "text/plain": [
       "<matplotlib.image.AxesImage at 0x24c803554c0>"
      ]
     },
     "execution_count": 24,
     "metadata": {},
     "output_type": "execute_result"
    },
    {
     "data": {
      "image/png": "[encoded data removed]",
      "text/plain": [
       "<Figure size 432x288 with 1 Axes>"
      ]
     },
     "metadata": {
      "needs_background": "light"
     },
     "output_type": "display_data"
    }
   ],
   "source": [
    "plt.imshow(state)"
   ]
  },
  {
   "cell_type": "code",
   "execution_count": null,
   "id": "643edc49",
   "metadata": {},
   "outputs": [],
   "source": [
    "state, reward, done, info = env.step([5])"
   ]
  },
  {
   "cell_type": "code",
   "execution_count": null,
   "id": "7ea45e5b",
   "metadata": {},
   "outputs": [],
   "source": [
    "plt.figure(figsize=(20,16))\n",
    "for idx in range(state.shape[3]):\n",
    "    plt.subplot(1,4,idx+1)\n",
    "    plt.imshow(state[0][:,:,idx])\n",
    "plt.show()"
   ]
  },
  {
   "cell_type": "markdown",
   "id": "b0a82480",
   "metadata": {},
   "source": [
    "3. Train the RL Model"
   ]
  },
  {
   "cell_type": "code",
   "execution_count": null,
   "id": "c6accf7d",
   "metadata": {},
   "outputs": [],
   "source": [
    "# Import os for file path management\n",
    "import os \n",
    "# Import PPO for algos\n",
    "from stable_baselines3 import PPO\n",
    "# Import Base Callback for saving models\n",
    "from stable_baselines3.common.callbacks import BaseCallback"
   ]
  },
  {
   "cell_type": "code",
   "execution_count": null,
   "id": "a32862dd",
   "metadata": {},
   "outputs": [],
   "source": [
    "class TrainAndLoggingCallback(BaseCallback):\n",
    "\n",
    "    def __init__(self, check_freq, save_path, verbose=1):\n",
    "        super(TrainAndLoggingCallback, self).__init__(verbose)\n",
    "        self.check_freq = check_freq\n",
    "        self.save_path = save_path\n",
    "\n",
    "    def _init_callback(self):\n",
    "        if self.save_path is not None:\n",
    "            os.makedirs(self.save_path, exist_ok=True)\n",
    "\n",
    "    def _on_step(self):\n",
    "        if self.n_calls % self.check_freq == 0:\n",
    "            model_path = os.path.join(self.save_path, 'best_model_{}'.format(self.n_calls))\n",
    "            self.model.save(model_path)\n",
    "\n",
    "        return True"
   ]
  },
  {
   "cell_type": "code",
   "execution_count": null,
   "id": "b119f38d",
   "metadata": {},
   "outputs": [],
   "source": [
    "CHECKPOINT_DIR = './train/'\n",
    "LOG_DIR = './logs/'"
   ]
  },
  {
   "cell_type": "code",
   "execution_count": null,
   "id": "964dd9d8",
   "metadata": {},
   "outputs": [],
   "source": [
    "# Setup model saving callback\n",
    "callback = TrainAndLoggingCallback(check_freq=10000, save_path=CHECKPOINT_DIR)"
   ]
  },
  {
   "cell_type": "code",
   "execution_count": null,
   "id": "66d7ff34",
   "metadata": {},
   "outputs": [],
   "source": [
    "# This is the AI model started\n",
    "model = PPO('CnnPolicy', env, verbose=1, tensorboard_log=LOG_DIR, learning_rate=0.000001, \n",
    "            n_steps=512) "
   ]
  },
  {
   "cell_type": "code",
   "execution_count": null,
   "id": "b32cd85b",
   "metadata": {},
   "outputs": [],
   "source": [
    "# Train the AI model, this is where the AI model starts to learn\n",
    "model.learn(total_timesteps=1000000, callback=callback)"
   ]
  },
  {
   "cell_type": "code",
   "execution_count": null,
   "id": "6e90e168",
   "metadata": {},
   "outputs": [],
   "source": [
    "model.save('thisisatestmodel')"
   ]
  },
  {
   "cell_type": "markdown",
   "id": "d56c6ee3",
   "metadata": {},
   "source": [
    "4. Test it Out"
   ]
  },
  {
   "cell_type": "code",
   "execution_count": null,
   "id": "b4c4749b",
   "metadata": {},
   "outputs": [],
   "source": [
    "# Load model\n",
    "model = PPO.load('./train/best_model_1000000')"
   ]
  },
  {
   "cell_type": "code",
   "execution_count": null,
   "id": "9cfc9773",
   "metadata": {},
   "outputs": [],
   "source": [
    "state = env.reset()"
   ]
  },
  {
   "cell_type": "code",
   "execution_count": null,
   "id": "f2cee538",
   "metadata": {},
   "outputs": [],
   "source": [
    "# Start the game \n",
    "state = env.reset()\n",
    "# Loop through the game\n",
    "while True: \n",
    "    \n",
    "    action, _ = model.predict(state)\n",
    "    state, reward, done, info = env.step(action)\n",
    "    env.render()"
   ]
  }
 ],
 "metadata": {
  "kernelspec": {
   "display_name": "Python 3",
   "language": "python",
   "name": "python3"
  },
  "language_info": {
   "codemirror_mode": {
    "name": "ipython",
    "version": 3
   },
   "file_extension": ".py",
   "mimetype": "text/x-python",
   "name": "python",
   "nbconvert_exporter": "python",
   "pygments_lexer": "ipython3",
   "version": "3.8.8"
  }
 },
 "nbformat": 4,
 "nbformat_minor": 5
}
